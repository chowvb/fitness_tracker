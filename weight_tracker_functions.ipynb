{
 "cells": [
  {
   "cell_type": "code",
   "execution_count": 83,
   "id": "3e0fb6fa",
   "metadata": {},
   "outputs": [],
   "source": [
    "import pathlib\n",
    "import os\n",
    "import pandas as pd\n",
    "import csv\n",
    "import datetime"
   ]
  },
  {
   "cell_type": "code",
   "execution_count": 84,
   "id": "7035747e",
   "metadata": {},
   "outputs": [],
   "source": [
    "class WeightTracker:\n",
    "    def check_csv(self):\n",
    "        csv_file = \"data/weight_tracker.csv\"\n",
    "        if not os.path.exists(csv_file):\n",
    "            with open(csv_file, \"w\", newline=\"\") as file:\n",
    "                writer = csv.writer(file)\n",
    "                writer.writerow([\"Date\",\"Weight\"])\n",
    "            print(\"CSV file successfully created\")\n",
    "        else:\n",
    "            print(\"\\nCSV file already exists\")\n",
    "            df = pd.read_csv(csv_file).dropna(how=\"any\")\n",
    "            df.to_csv(csv_file,index=False)\n",
    "        \n",
    "    def update_csv(self):\n",
    "        csv_file = \"data/weight_tracker.csv\"\n",
    "        weight_df = pd.read_csv(csv_file)\n",
    "        \n",
    "        new_data = {\n",
    "            \"Date\": [],\n",
    "            \"Weight\": []\n",
    "        }\n",
    "        \n",
    "        todays_date = datetime.date.today().strftime(\"%d/%m/%Y\")\n",
    "        weight_input = int(input(\"Input Todays Weight: \"))\n",
    "        new_data[\"Date\"].append(todays_date)\n",
    "        new_data[\"Weight\"].append(weight_input)\n",
    "        new_data_df = pd.DataFrame(new_data)\n",
    "        updated_weight_df = pd.concat([weight_df, new_data_df], ignore_index=True)\n",
    "        updated_weight_df.to_csv(\"data/weight_tracker.csv\",index=False)\n",
    "    \n",
    "    def view_weight(self):\n",
    "        csv_file = \"data/weight_tracker.csv\"\n",
    "        weight_df = pd.read_csv(csv_file)\n",
    "        print(\"\\n\",weight_df)\n",
    "    \n",
    "    def remove_entry(self, row):\n",
    "        csv_file =\"data/weight_tracker.csv\"\n",
    "        df = pd.read_csv(csv_file)\n",
    "        df_dropped = df.drop(row)\n",
    "        df_dropped.to_csv(csv_file,index=False)\n",
    "        print(\"Row Deleted Successfully\\n\")\n"
   ]
  },
  {
   "cell_type": "code",
   "execution_count": null,
   "id": "8075b85e",
   "metadata": {
    "scrolled": true
   },
   "outputs": [
    {
     "name": "stdout",
     "output_type": "stream",
     "text": [
      "\n",
      "CSV file already exists\n",
      "\n",
      "    (1): View Weight Tracker\n",
      "    (2): Add Todays Weight\n",
      "    (3): Remove A Data Entry\n",
      "    (q): Quit\n",
      "    \n"
     ]
    }
   ],
   "source": [
    "loop = False\n",
    "tracker = WeightTracker()\n",
    "tracker.check_csv()\n",
    "\n",
    "while not loop:\n",
    "    print(\"\"\"\n",
    "    (1): View Weight Tracker\n",
    "    (2): Add Todays Weight\n",
    "    (3): Remove A Data Entry\n",
    "    (q): Quit\n",
    "    \"\"\")\n",
    "    option = input(\"Please Chose an Option: \")\n",
    "    \n",
    "    if option == \"1\":\n",
    "        tracker.view_weight()\n",
    "    if option == \"2\":\n",
    "        tracker.update_csv()\n",
    "    if option == \"3\":\n",
    "        data_preview = pd.read_csv(\"data/weight_tracker.csv\")\n",
    "        first_row = 0\n",
    "        last_row = len(data_preview)-1\n",
    "        print(data_preview)\n",
    "        option_3_loop = False\n",
    "        while not option_3_loop:\n",
    "            row_to_remove = int(input(\"Please input the row to be removed: \"))\n",
    "            if first_row <= row_to_remove <= last_row:\n",
    "                row = row_to_remove\n",
    "                option_3_loop = True\n",
    "            else:\n",
    "                print(\"Incorrect Input\")\n",
    "        tracker.remove_entry(row)\n",
    "        tracker.view_weight()\n",
    "    if option == \"q\":\n",
    "        loop = True"
   ]
  },
  {
   "cell_type": "code",
   "execution_count": 54,
   "id": "754378e4",
   "metadata": {},
   "outputs": [
    {
     "name": "stdout",
     "output_type": "stream",
     "text": [
      "CSV file already exists\n",
      "         Date  Weight\n",
      "0  01/07/2023      70\n",
      "1  01/07/2023      87\n",
      "         Date  Weight\n",
      "1  01/07/2023      87\n"
     ]
    }
   ],
   "source": [
    "# Creating an instance of the WeightTracker\n",
    "tracker = WeightTracker()\n",
    "tracker.check_csv()\n",
    "#tracker.update_csv()\n",
    "#tracker.view_weight()\n",
    "tracker.remove_entry(0)"
   ]
  },
  {
   "cell_type": "code",
   "execution_count": 67,
   "id": "000ab0de",
   "metadata": {},
   "outputs": [
    {
     "name": "stdout",
     "output_type": "stream",
     "text": [
      "         Date  Weight\n",
      "1  01/07/2023      87\n"
     ]
    }
   ],
   "source": [
    "df = pd.read_csv(\"data/weight_tracker.csv\")\n",
    "dropped_df= df.drop(df.index[0])\n",
    "print(dropped_df)"
   ]
  }
 ],
 "metadata": {
  "kernelspec": {
   "display_name": "Python 3 (ipykernel)",
   "language": "python",
   "name": "python3"
  },
  "language_info": {
   "codemirror_mode": {
    "name": "ipython",
    "version": 3
   },
   "file_extension": ".py",
   "mimetype": "text/x-python",
   "name": "python",
   "nbconvert_exporter": "python",
   "pygments_lexer": "ipython3",
   "version": "3.9.13"
  }
 },
 "nbformat": 4,
 "nbformat_minor": 5
}
