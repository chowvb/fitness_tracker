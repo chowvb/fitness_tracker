{
 "cells": [
  {
   "cell_type": "code",
   "execution_count": 11,
   "id": "3e0fb6fa",
   "metadata": {},
   "outputs": [],
   "source": [
    "import pathlib\n",
    "import os\n",
    "import pandas as pd\n",
    "import csv"
   ]
  },
  {
   "cell_type": "code",
   "execution_count": 22,
   "id": "7035747e",
   "metadata": {},
   "outputs": [],
   "source": [
    "class WeightTracker:\n",
    "    def check_csv(self):\n",
    "        csv_file = \"data/weight_tracker.csv\"\n",
    "        if not os.path.exists(csv_file):\n",
    "            with open(csv_file, \"w\", newline=\"\") as file:\n",
    "                writer = csv.writer(file)\n",
    "                writer.writerow([\"Date\",\"Weight\"])\n",
    "            print(\"CSV file successfully created\")\n",
    "        else:\n",
    "            print(\"CSV file already exists\")"
   ]
  },
  {
   "cell_type": "code",
   "execution_count": 23,
   "id": "8f2278b0",
   "metadata": {},
   "outputs": [
    {
     "name": "stdout",
     "output_type": "stream",
     "text": [
      "CSV file already exists\n"
     ]
    }
   ],
   "source": [
    "# Creating an instance of the WeightTracker\n",
    "tracker = WeightTracker()\n",
    "tracker.check_csv()"
   ]
  }
 ],
 "metadata": {
  "kernelspec": {
   "display_name": "Python 3 (ipykernel)",
   "language": "python",
   "name": "python3"
  },
  "language_info": {
   "codemirror_mode": {
    "name": "ipython",
    "version": 3
   },
   "file_extension": ".py",
   "mimetype": "text/x-python",
   "name": "python",
   "nbconvert_exporter": "python",
   "pygments_lexer": "ipython3",
   "version": "3.10.11"
  }
 },
 "nbformat": 4,
 "nbformat_minor": 5
}
