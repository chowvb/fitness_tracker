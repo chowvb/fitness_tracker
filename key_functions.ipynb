{
 "cells": [
  {
   "cell_type": "code",
   "execution_count": 4,
   "id": "5896b2ab",
   "metadata": {},
   "outputs": [
    {
     "name": "stdout",
     "output_type": "stream",
     "text": [
      "Exercise Tracker:\n",
      "Exercise: Squat\n",
      "Weight: 100kg\n",
      "Reps: 5\n",
      "Sets: 3\n",
      "\n",
      "Exercise: Bench Press\n",
      "Weight: 80kg\n",
      "Reps: 5\n",
      "Sets: 3\n",
      "\n",
      "Exercise: Deadlift\n",
      "Weight: 90kg\n",
      "Reps: 5\n",
      "Sets: 3\n",
      "\n"
     ]
    }
   ],
   "source": [
    "class Exercise:\n",
    "    def __init__(self, name, weight, reps, sets):\n",
    "        \"\"\"\n",
    "        Initialises an Exercise object with the parameters.\n",
    "        \n",
    "        Parameters:\n",
    "        - name(str): The name of the exercise.\n",
    "        - weight(int): The weight used for the exercise.\n",
    "        - reps(int): The number of repititions performed.\n",
    "        - sets(int): The number of sets completed\n",
    "        \"\"\"\n",
    "        self.name = name\n",
    "        self.weight = weight\n",
    "        self.reps = reps\n",
    "        self.sets = sets\n",
    "        \n",
    "class FitnessTracker:\n",
    "    def __init__(self):\n",
    "        \"\"\"\n",
    "        Initialise a Fitness Tracker object with an empty list to store exercises into\n",
    "        \"\"\"\n",
    "        self.exercises = []\n",
    "        \n",
    "    def add_exercise(self, name, weight, reps, sets):\n",
    "        \"\"\"\n",
    "        Adds a new exercise to the trackers with the following parameters\n",
    "        \n",
    "        Parameters:\n",
    "        - name(str): The name of the exercise.\n",
    "        - weight(int): The weight used for the exercise.\n",
    "        - reps(int): The number of repititions performed.\n",
    "        - sets(int): The number of sets completed\n",
    "        \"\"\"\n",
    "        exercise = Exercise(name, weight,reps, sets)\n",
    "        self.exercises.append(exercise)\n",
    "    \n",
    "    def display_exercises(self):\n",
    "        \"\"\"\n",
    "        Displays the list of exercises tracked. \n",
    "        If no exercises are present, a message indicating no exercises are available to print\n",
    "        \"\"\"\n",
    "        if not self.exercises:\n",
    "            print(\"No exercises to display.\")\n",
    "        else:\n",
    "            print(\"Exercise Tracker:\")\n",
    "            for exercise in self.exercises:\n",
    "                print(f\"Exercise: {exercise.name}\\nWeight: {exercise.weight}kg\\nReps: {exercise.reps}\\nSets: {exercise.sets}\\n\")\n",
    "                \n",
    "\n",
    "# Creating an instance of the FitnessTracker\n",
    "tracker = FitnessTracker()\n",
    "                      \n",
    "# Adding exercises \n",
    "tracker.add_exercise(\"Squat\", 100,5,3)\n",
    "tracker.add_exercise(\"Bench Press\", 80,5,3)\n",
    "tracker.add_exercise(\"Deadlift\", 90,5,3)\n",
    "\n",
    "# Display Exercises \n",
    "tracker.display_exercises()"
   ]
  }
 ],
 "metadata": {
  "kernelspec": {
   "display_name": "Python 3 (ipykernel)",
   "language": "python",
   "name": "python3"
  },
  "language_info": {
   "codemirror_mode": {
    "name": "ipython",
    "version": 3
   },
   "file_extension": ".py",
   "mimetype": "text/x-python",
   "name": "python",
   "nbconvert_exporter": "python",
   "pygments_lexer": "ipython3",
   "version": "3.10.11"
  }
 },
 "nbformat": 4,
 "nbformat_minor": 5
}
